{
 "cells": [
  {
   "cell_type": "code",
   "execution_count": 1,
   "id": "6dce6d14-b3ad-4ffd-ad73-f8c11ebca9c0",
   "metadata": {},
   "outputs": [],
   "source": [
    "import os\n",
    "import matplotlib.pyplot as plt\n",
    "import pandas as pd\n",
    "import glob\n",
    "import cmocean as cmo\n",
    "import seawater as sw\n",
    "import sys\n",
    "\n",
    "sys.path.append('../')\n",
    "import src.data.export_log_data as efuncs\n",
    "import src.data.read_functions as rfuncs\n",
    "\n",
    "\n",
    "# root dir\n",
    "rootpath = os.path.dirname(os.getcwd())\n",
    "\n",
    "# log files directory\n",
    "logdir=os.path.join('e:','ECOWind-accelerate','master','files','log')\n",
    "\n",
    "savedir=os.path.join('e:','ECOWind-accelerate','master','files','processed-log-data')\n",
    "\n",
    "os.makedirs(savedir, exist_ok=True)  \n",
    "\n",
    "files=glob.glob(logdir+'\\*ctd*')\n",
    "\n",
    "if files:\n",
    "# determine if files are zipped. If yes, unzip, if no, continue\n",
    "    ctdfiles=os.path.join(logdir,'*ctd-slocum*.xml.gz')    \n",
    "    import gzip, shutil\n",
    "    flelist=glob.glob(ctdfiles)\n",
    "    for i in flelist:\n",
    "        with gzip.open(i, 'r') as f_in, open( i[:-3], 'wb') as f_out:\n",
    "            shutil.copyfileobj(f_in, f_out)\n",
    "\n",
    "files=glob.glob(logdir+'\\*sbp*')\n",
    "if files:\n",
    "    # determine if files are zipped. If yes, unzip, if no, continue\n",
    "    files=os.path.join(logdir,'*sbp*.xml.gz')    \n",
    "    import gzip, shutil\n",
    "    flelist=glob.glob(files)\n",
    "    for i in flelist:\n",
    "        with gzip.open(i, 'r') as f_in, open( i[:-3], 'wb') as f_out:\n",
    "            shutil.copyfileobj(f_in, f_out)\n",
    "                \n",
    "files=glob.glob(logdir+'\\*gps*')\n",
    "if files:    \n",
    "    # determine if files are zipped. If yes, unzip, if no, continue\n",
    "    files=os.path.join(logdir,'*gps-*.xml.gz')    \n",
    "    import gzip, shutil\n",
    "    flelist=glob.glob(files)\n",
    "    for i in flelist:\n",
    "        with gzip.open(i, 'r') as f_in, open( i[:-3], 'wb') as f_out:\n",
    "            shutil.copyfileobj(f_in, f_out)\n",
    "\n",
    "files=glob.glob(logdir+'\\*nav*')\n",
    "if files: \n",
    "# determine if files are zipped. If yes, unzip, if no, continue\n",
    "    navfiles=os.path.join(logdir,'*navigator*.xml.gz')    \n",
    "    import gzip, shutil\n",
    "    flelist=glob.glob(navfiles)\n",
    "    for i in flelist:\n",
    "        with gzip.open(i, 'r') as f_in, open( i[:-3], 'wb') as f_out:\n",
    "            shutil.copyfileobj(f_in, f_out)\n",
    "\n",
    "files=glob.glob(logdir+'\\*aanderaa*')\n",
    "# determine if files are zipped. If yes, unzip, if no, continue\n",
    "if files: \n",
    "    files=os.path.join(logdir,'*aanderaa*.xml.gz')    \n",
    "    import gzip, shutil\n",
    "    flelist=glob.glob(files)\n",
    "    for i in flelist:\n",
    "        with gzip.open(i, 'r') as f_in, open( i[:-3], 'wb') as f_out:\n",
    "            shutil.copyfileobj(f_in, f_out)"
   ]
  },
  {
   "cell_type": "markdown",
   "id": "flying-corrections",
   "metadata": {
    "tags": []
   },
   "source": [
    "#### Read mission data "
   ]
  },
  {
   "cell_type": "markdown",
   "id": "needed-peripheral",
   "metadata": {},
   "source": [
    "#### Load the Gavia data\n",
    "Load from the **mission/log** folder as the Slocum-CTD files have no timestamp information\n",
    "\n",
    "Uses functions to read .xml files and unpack to pandas like data frames\n"
   ]
  },
  {
   "cell_type": "code",
   "execution_count": null,
   "id": "eaa91336-51e7-4066-a20b-ea54f4dfa20b",
   "metadata": {},
   "outputs": [],
   "source": []
  }
 ],
 "metadata": {
  "kernelspec": {
   "display_name": "Python 3 (ipykernel)",
   "language": "python",
   "name": "python3"
  },
  "language_info": {
   "codemirror_mode": {
    "name": "ipython",
    "version": 3
   },
   "file_extension": ".py",
   "mimetype": "text/x-python",
   "name": "python",
   "nbconvert_exporter": "python",
   "pygments_lexer": "ipython3",
   "version": "3.9.16"
  }
 },
 "nbformat": 4,
 "nbformat_minor": 5
}
